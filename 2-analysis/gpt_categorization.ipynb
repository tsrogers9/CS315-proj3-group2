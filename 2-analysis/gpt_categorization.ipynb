{
 "cells": [
  {
   "cell_type": "markdown",
   "metadata": {},
   "source": [
    "## Categorizing videos\n",
    "4/27/2024 \\\n",
    "Author: Tayae Rogers"
   ]
  },
  {
   "cell_type": "code",
   "execution_count": 59,
   "metadata": {},
   "outputs": [],
   "source": [
    "import pandas as pd"
   ]
  },
  {
   "cell_type": "code",
   "execution_count": 60,
   "metadata": {},
   "outputs": [],
   "source": [
    "#pip install openai"
   ]
  },
  {
   "cell_type": "code",
   "execution_count": 61,
   "metadata": {},
   "outputs": [],
   "source": [
    "from openai import OpenAI\n",
    "import os"
   ]
  },
  {
   "cell_type": "code",
   "execution_count": 62,
   "metadata": {},
   "outputs": [],
   "source": [
    "os.environ['API_KEY'] = 'KEY' # use own openai key\n",
    "openai.api_key = os.environ['API_KEY']\n",
    "client = OpenAI(api_key = \"KEY\")"
   ]
  },
  {
   "cell_type": "code",
   "execution_count": 63,
   "metadata": {},
   "outputs": [
    {
     "ename": "SyntaxError",
     "evalue": "invalid syntax (2463506640.py, line 1)",
     "output_type": "error",
     "traceback": [
      "\u001b[0;36m  Cell \u001b[0;32mIn[63], line 1\u001b[0;36m\u001b[0m\n\u001b[0;31m    openai migrate\u001b[0m\n\u001b[0m           ^\u001b[0m\n\u001b[0;31mSyntaxError\u001b[0m\u001b[0;31m:\u001b[0m invalid syntax\n"
     ]
    }
   ],
   "source": [
    "openai migrate"
   ]
  },
  {
   "cell_type": "code",
   "execution_count": 64,
   "metadata": {},
   "outputs": [
    {
     "name": "stdout",
     "output_type": "stream",
     "text": [
      "['energy and environment', 'health, education, and labor']\n"
     ]
    }
   ],
   "source": [
    "#import json\n",
    "def get_category(vid_descr_list):\n",
    "    \"\"\"\n",
    "    Input: list - a list of string video descriptions\n",
    "    Output: list - categories of those videos\n",
    "    \"\"\"\n",
    "    try:\n",
    "        completion = client.chat.completions.create(\n",
    "            messages=[\n",
    "                {\n",
    "                    \"role\": \"user\",\n",
    "                    \"content\": f\"\"\"The input is a list of string video descriptions. For each video description\n",
    "            in the list, identify its topic as one or two of the following topics in this list: \"civil rights,\" \"culture,\" \"energy and environment,\"\n",
    "            \"health, education, and labor,\" \"immigration and international affairs,\" \"housing and social welfare,\" \"defense, law, and crime,\"\n",
    "            \"economy, commerce, and transportation,\" and/or \"other.\" For example, if the input list is [\"global warming is causing\n",
    "            more extreme weather events\", \"we must adopt universal health care\"], the output should be [\"energy and environment,\"\n",
    "            \"health, education, and labor\"]. The input list is {vid_descr_list}\"\"\",\n",
    "                }\n",
    "            ], \n",
    "            model=\"gpt-3.5-turbo\"\n",
    "        )\n",
    "        # The output format might have changed in the new API version, adjust as needed\n",
    "        categories = completion.choices[0].message.content\n",
    "        return categories\n",
    "    except Exception as e:\n",
    "        print(f\"An error occurred: {e}\")\n",
    "        return []\n",
    "\n",
    "\n",
    "# Example usage:\n",
    "video_descriptions = [\n",
    "    \"global warming is causing more extreme weather events\",\n",
    "    \"we must adopt universal health care\"\n",
    "]\n",
    "categories = get_category(video_descriptions)\n",
    "print(categories)\n"
   ]
  },
  {
   "cell_type": "code",
   "execution_count": 65,
   "metadata": {},
   "outputs": [
    {
     "data": {
      "text/plain": [
       "'/Users/sandyliu/CS315-proj3-group2/2-analysisF_all_vid_descriptions_2024_04_27.csv'"
      ]
     },
     "execution_count": 65,
     "metadata": {},
     "output_type": "execute_result"
    }
   ],
   "source": [
    "os.getcwd() + 'F_all_vid_descriptions_2024_04_27.csv'"
   ]
  },
  {
   "cell_type": "code",
   "execution_count": 66,
   "metadata": {},
   "outputs": [],
   "source": [
    "vid_descriptions = pd.read_csv(os.getcwd() + '/F_all_vid_descriptions_2024_04_27.csv')"
   ]
  },
  {
   "cell_type": "code",
   "execution_count": 67,
   "metadata": {},
   "outputs": [
    {
     "data": {
      "text/plain": [
       "['we all know who the grand puppet master is in this impeachment. the long arm (but small hands) of donald trump and his fingerprints are all over this hearing and gop shut down.',\n",
       " 'if the majority wants to talk about dark money and activist courts, i am so here for it.so, let’s talk about how right wing organizations bankroll judicial decisions to undermine our fundamental rights and judicial system.',\n",
       " 'the party of ‘law and order” 🤔lol, they literally have a history of interfering in criminal investigations for political gain.today’s oversight hearing is purely a political stunt. period.',\n",
       " \"no one should have the right to tell women what we can and can't do with our bodies—including the supreme court.right now scotus is considering whether or not women should have access to life saving medications like mifepristone. the law must follow the science and protect our rights, not a political agenda.\",\n",
       " 'i ran for congress because i was sick of politicians telling communities they would help them, only to turn around and use them for political theater.we’ve known for years of the behavioral health and public safety crises ravaging our tribes and pueblos, and it’s time we actually listen to tribal leaders and let them lead.',\n",
       " 'it’s official! my bipartisan veterans and outdoor accessibility bill passed the house last night as part of the explore act! it is now on its way to the senate and hopefully president biden’s desk! 🤞🏻',\n",
       " 'as a proud graduate of albuquerque public schools—we know our graduates go on to do amazing things. take city councilor nichole rogers, who graduated from cibola just like me! (go cougars! 🐾) or aps superintendent gabriella blakey, who graduated from highland! so excited to see what this year’s graduates do next!',\n",
       " 'healthcare is a human right. period. we must do everything we can to ensure our communities can access care.',\n",
       " 'every single living being deserves fresh air, clean water, and a healthy planet to live on.that’s why i brought some of new mexico’s brightest minds together for a roundtable to talk how we can make that hope a reality. i’m grateful every day to work with so many amazing groups that are leading the way for a just transition into climate resiliency.',\n",
       " \"our communities deserve every opportunity to thrive—which means access to healthcare, mental and behavioral health programs, and addiction services. unfortunately, so many in new mexico are struggling to access that care. that's why i was deeply grateful to join the congressional hispanic caucus, rep. teresa leger fernández, and u.s. department of health and human services secretary becerra today as we heard from you on how we can help get better care to our communities.\"]"
      ]
     },
     "execution_count": 67,
     "metadata": {},
     "output_type": "execute_result"
    }
   ],
   "source": [
    "first10_female = vid_descriptions['description_string'].to_list()[:10]\n",
    "first10_female"
   ]
  },
  {
   "cell_type": "code",
   "execution_count": 68,
   "metadata": {},
   "outputs": [],
   "source": [
    "first10_female_gpt_output = get_category(first10_female)"
   ]
  },
  {
   "cell_type": "code",
   "execution_count": 69,
   "metadata": {},
   "outputs": [
    {
     "data": {
      "text/plain": [
       "str"
      ]
     },
     "execution_count": 69,
     "metadata": {},
     "output_type": "execute_result"
    }
   ],
   "source": [
    "type(first10_female_gpt_output)"
   ]
  },
  {
   "cell_type": "code",
   "execution_count": 70,
   "metadata": {},
   "outputs": [
    {
     "data": {
      "text/plain": [
       "'[\"defense, law, and crime\", \"defense, law, and crime\", \"civil rights\", \"health, education, and labor\", \"health, education, and labor\", \"other\", \"other\", \"health, education, and labor\", \"energy and environment\", \"health, education, and labor\"]'"
      ]
     },
     "execution_count": 70,
     "metadata": {},
     "output_type": "execute_result"
    }
   ],
   "source": [
    "first10_female_gpt_output"
   ]
  },
  {
   "cell_type": "code",
   "execution_count": 71,
   "metadata": {},
   "outputs": [
    {
     "ename": "AttributeError",
     "evalue": "'str' object has no attribute 'choices'",
     "output_type": "error",
     "traceback": [
      "\u001b[0;31m---------------------------------------------------------------------------\u001b[0m",
      "\u001b[0;31mAttributeError\u001b[0m                            Traceback (most recent call last)",
      "Cell \u001b[0;32mIn[71], line 1\u001b[0m\n\u001b[0;32m----> 1\u001b[0m first10_female_gpt_output\u001b[38;5;241m.\u001b[39mchoices[\u001b[38;5;241m0\u001b[39m]\u001b[38;5;241m.\u001b[39mmessage\u001b[38;5;241m.\u001b[39mcontent\n",
      "\u001b[0;31mAttributeError\u001b[0m: 'str' object has no attribute 'choices'"
     ]
    }
   ],
   "source": [
    "first10_female_gpt_output.choices[0].message.content"
   ]
  },
  {
   "cell_type": "code",
   "execution_count": null,
   "metadata": {},
   "outputs": [],
   "source": []
  },
  {
   "cell_type": "code",
   "execution_count": null,
   "metadata": {},
   "outputs": [],
   "source": []
  },
  {
   "cell_type": "code",
   "execution_count": null,
   "metadata": {},
   "outputs": [],
   "source": []
  }
 ],
 "metadata": {
  "kernelspec": {
   "display_name": "Python 3 (ipykernel)",
   "language": "python",
   "name": "python3"
  },
  "language_info": {
   "codemirror_mode": {
    "name": "ipython",
    "version": 3
   },
   "file_extension": ".py",
   "mimetype": "text/x-python",
   "name": "python",
   "nbconvert_exporter": "python",
   "pygments_lexer": "ipython3",
   "version": "3.11.5"
  }
 },
 "nbformat": 4,
 "nbformat_minor": 4
}
