{
 "cells": [
  {
   "cell_type": "markdown",
   "metadata": {},
   "source": [
    "### Analyzing GPT Categorization"
   ]
  },
  {
   "cell_type": "code",
   "execution_count": 2,
   "metadata": {},
   "outputs": [],
   "source": [
    "import pandas as pd"
   ]
  },
  {
   "cell_type": "code",
   "execution_count": 4,
   "metadata": {},
   "outputs": [],
   "source": [
    "dir_path = \"/users/carolinejung/CS315-proj3-group2/2-analysis/\" #CHANGE ME!"
   ]
  },
  {
   "cell_type": "code",
   "execution_count": 59,
   "metadata": {},
   "outputs": [],
   "source": [
    "category_names = [\"civil rights\", \"culture\", \"energy and environment\", \"health, education, and labor\",\n",
    "                  \"immigration and international affairs\", \"housing and social welfare\", \"defense, law, and crime\",\n",
    "                  \"economy, commerce, and transportation\", \"other\"]\n",
    "\n",
    "female = pd.read_csv(dir_path+\"female_categories.csv\")"
   ]
  },
  {
   "cell_type": "code",
   "execution_count": 60,
   "metadata": {},
   "outputs": [
    {
     "data": {
      "text/plain": [
       "Description\n",
       "other                                    141\n",
       "health, education, and labor              82\n",
       "defense, law, and crime                   71\n",
       "economy, commerce, and transportation     60\n",
       "culture                                   46\n",
       "civil rights                              43\n",
       "immigration and international affairs     18\n",
       "energy and environment                    18\n",
       "housing and social welfare                 4\n",
       "Name: count, dtype: int64"
      ]
     },
     "execution_count": 60,
     "metadata": {},
     "output_type": "execute_result"
    }
   ],
   "source": [
    "def clean_df(df):\n",
    "    new_rows = []\n",
    "    for person in df.iterrows():\n",
    "        id = person[1][\"video_id\"]\n",
    "        description = person[1][\"Description\"]\n",
    "\n",
    "        for category in category_names:\n",
    "            if category in description:\n",
    "                new_rows.append({\"video_id\": id, \"Description\": category})\n",
    "    \n",
    "    return pd.DataFrame(new_rows)\n",
    "\n",
    "clean_df(female)[\"Description\"].value_counts()"
   ]
  }
 ],
 "metadata": {
  "kernelspec": {
   "display_name": "venv",
   "language": "python",
   "name": "python3"
  },
  "language_info": {
   "codemirror_mode": {
    "name": "ipython",
    "version": 3
   },
   "file_extension": ".py",
   "mimetype": "text/x-python",
   "name": "python",
   "nbconvert_exporter": "python",
   "pygments_lexer": "ipython3",
   "version": "3.11.5"
  }
 },
 "nbformat": 4,
 "nbformat_minor": 2
}
