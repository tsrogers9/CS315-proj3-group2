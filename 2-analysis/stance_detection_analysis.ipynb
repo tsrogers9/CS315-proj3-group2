{
 "cells": [
  {
   "cell_type": "markdown",
   "metadata": {},
   "source": [
    "## Stance detection analysis\n",
    "4/26/2024 \\\n",
    "Author: Tayae Rogers\n",
    "\n",
    "**Table of Contents**\n",
    "1. [Data wrangling](#1)\n",
    "2. [Side-by-side bar chart](#2)"
   ]
  },
  {
   "cell_type": "markdown",
   "metadata": {},
   "source": []
  },
  {
   "cell_type": "markdown",
   "metadata": {},
   "source": [
    "<a class=\"anchor\" id=\"1\"></a>\n",
    "### 1. Data wrangling"
   ]
  },
  {
   "cell_type": "code",
   "execution_count": 3,
   "metadata": {},
   "outputs": [],
   "source": [
    "import pandas as pd\n",
    "import json"
   ]
  },
  {
   "cell_type": "code",
   "execution_count": 85,
   "metadata": {},
   "outputs": [],
   "source": [
    "with open('female_data_scores.json') as inf:\n",
    "    female_federal = json.load(inf)\n",
    "\n",
    "with open('male_data_scores.json') as inf:\n",
    "    male_federal = json.load(inf)"
   ]
  },
  {
   "cell_type": "code",
   "execution_count": 107,
   "metadata": {},
   "outputs": [],
   "source": [
    "col_names_cats = ['SEXUALLY_EXPLICIT', 'IDENTITY_ATTACK', 'THREAT', 'LIKELY_TO_REJECT', 'SEVERE_TOXICITY', 'TOXICITY', 'INSULT', 'PROFANITY']"
   ]
  },
  {
   "cell_type": "code",
   "execution_count": 108,
   "metadata": {},
   "outputs": [],
   "source": [
    "def flatten_datajson(d_json, gender, col_names_cats):\n",
    "    \"\"\"\n",
    "    Input: d_json - a json of video scores for each video for politicians of the same gender; gender - gender of users\n",
    "    Output: df - a df in which each row represents a video, the politician, the politican's gender, and the video's stance scores\n",
    "    \"\"\"\n",
    "    # maybe make helper function to identify columns instead?\n",
    "    col_names_basic = col_names_cats + ['video_id']\n",
    "    col_name_politician = ['politician']\n",
    "    df_vids = pd.DataFrame(columns=(col_names_basic + col_name_politician))\n",
    "\n",
    "    # for each politician in the JSON...\n",
    "    for politician in d_json.keys():\n",
    "        df_pol_vids = pd.DataFrame(columns=col_names_basic)\n",
    "        pol_json = d_json[politician]\n",
    "        pol_json_length = len(pol_json)\n",
    "        print(f\"Processing {pol_json_length} videos from {politician}\")\n",
    "\n",
    "        # for each video for a politician...\n",
    "        for vid in pol_json.keys(): \n",
    "            vid_dict = d_json[politician][vid] # video dictionary (dictionary for one video)\n",
    "            vid_dict['video_id'] = vid # add key-value for video id\n",
    "            vid_df = pd.DataFrame(vid_dict, index=col_names_basic) # convert video dictionary to df\n",
    "\n",
    "            # add video df to df of a politician's videos if netiher are empty\n",
    "            try:\n",
    "                df_pol_vids = pd.concat([df_pol_vids if not df_pol_vids.empty else None, vid_df if not vid_df.empty else None], ignore_index=True) \n",
    "            except:\n",
    "                print(f\"{vid_dict['video_id']} failed to add to dict\")\n",
    "        \n",
    "        df_pol_vids['politician'] = politician\n",
    "\n",
    "        # add video df to df of a politician's videos if netiher are empty\n",
    "        try:\n",
    "            df_vids = pd.concat([df_vids if not df_vids.empty else None, df_pol_vids if not df_pol_vids.empty else None], ignore_index=True) # add video df to df of a user's videos if netiher are empty\n",
    "        except:\n",
    "            print(f\"{df_pol_vids['politician']} failed to add to dict\")\n",
    "        \n",
    "    df_vids.loc[:, 'gender'] = gender\n",
    "    return df_vids\n"
   ]
  },
  {
   "cell_type": "code",
   "execution_count": 109,
   "metadata": {},
   "outputs": [],
   "source": [
    "def datajson_to_csv(d_json, gender, col_names):\n",
    "    \"\"\"\n",
    "    Input: d_json - a json of video scores for each video for politicians of the same gender; gender - gender of users\n",
    "    Output: df - a df in which each row represents a video, the politician, the politican's gender, and the video's stance scores\n",
    "\n",
    "    Converts json of video scores to a df and writes to a CSV\n",
    "    \"\"\"\n",
    "    df_temp = flatten_datajson(d_json, gender, col_names)\n",
    "    df_temp.to_csv(f\"{gender}_data_scores.csv\", index=False)\n",
    "    return df_temp"
   ]
  },
  {
   "cell_type": "code",
   "execution_count": 110,
   "metadata": {},
   "outputs": [
    {
     "name": "stdout",
     "output_type": "stream",
     "text": [
      "Processing 35 videos from repstansbury\n",
      "Processing 3 videos from nikemawilliams\n",
      "Processing 12 videos from marieforcongress\n",
      "Processing 6 videos from repchrissyhoulahan\n",
      "Processing 35 videos from teampattymurray\n",
      "Processing 27 videos from reppressley\n",
      "Processing 82 videos from sheilaforhouston\n",
      "Processing 73 videos from kirstengillibrand\n",
      "Processing 56 videos from repsummerlee\n",
      "Processing 12 videos from aoc\n",
      "Processing 8 videos from repwilson\n",
      "Processing 35 videos from repkatieporter\n",
      "Processing 27 videos from ilhanmn\n",
      "Processing 5 videos from rashidatlaib\n"
     ]
    },
    {
     "data": {
      "text/html": [
       "<div>\n",
       "<style scoped>\n",
       "    .dataframe tbody tr th:only-of-type {\n",
       "        vertical-align: middle;\n",
       "    }\n",
       "\n",
       "    .dataframe tbody tr th {\n",
       "        vertical-align: top;\n",
       "    }\n",
       "\n",
       "    .dataframe thead th {\n",
       "        text-align: right;\n",
       "    }\n",
       "</style>\n",
       "<table border=\"1\" class=\"dataframe\">\n",
       "  <thead>\n",
       "    <tr style=\"text-align: right;\">\n",
       "      <th></th>\n",
       "      <th>SEXUALLY_EXPLICIT</th>\n",
       "      <th>IDENTITY_ATTACK</th>\n",
       "      <th>THREAT</th>\n",
       "      <th>LIKELY_TO_REJECT</th>\n",
       "      <th>SEVERE_TOXICITY</th>\n",
       "      <th>TOXICITY</th>\n",
       "      <th>INSULT</th>\n",
       "      <th>PROFANITY</th>\n",
       "      <th>video_id</th>\n",
       "      <th>politician</th>\n",
       "      <th>gender</th>\n",
       "    </tr>\n",
       "  </thead>\n",
       "  <tbody>\n",
       "    <tr>\n",
       "      <th>0</th>\n",
       "      <td>0.013974</td>\n",
       "      <td>0.013107</td>\n",
       "      <td>0.011632</td>\n",
       "      <td>0.610315</td>\n",
       "      <td>0.002965</td>\n",
       "      <td>0.077061</td>\n",
       "      <td>0.048861</td>\n",
       "      <td>0.03744</td>\n",
       "      <td>7283952208561933599</td>\n",
       "      <td>repstansbury</td>\n",
       "      <td>female</td>\n",
       "    </tr>\n",
       "    <tr>\n",
       "      <th>1</th>\n",
       "      <td>0.013974</td>\n",
       "      <td>0.013107</td>\n",
       "      <td>0.011632</td>\n",
       "      <td>0.610315</td>\n",
       "      <td>0.002965</td>\n",
       "      <td>0.077061</td>\n",
       "      <td>0.048861</td>\n",
       "      <td>0.03744</td>\n",
       "      <td>7283952208561933599</td>\n",
       "      <td>repstansbury</td>\n",
       "      <td>female</td>\n",
       "    </tr>\n",
       "    <tr>\n",
       "      <th>2</th>\n",
       "      <td>0.013974</td>\n",
       "      <td>0.013107</td>\n",
       "      <td>0.011632</td>\n",
       "      <td>0.610315</td>\n",
       "      <td>0.002965</td>\n",
       "      <td>0.077061</td>\n",
       "      <td>0.048861</td>\n",
       "      <td>0.03744</td>\n",
       "      <td>7283952208561933599</td>\n",
       "      <td>repstansbury</td>\n",
       "      <td>female</td>\n",
       "    </tr>\n",
       "    <tr>\n",
       "      <th>3</th>\n",
       "      <td>0.013974</td>\n",
       "      <td>0.013107</td>\n",
       "      <td>0.011632</td>\n",
       "      <td>0.610315</td>\n",
       "      <td>0.002965</td>\n",
       "      <td>0.077061</td>\n",
       "      <td>0.048861</td>\n",
       "      <td>0.03744</td>\n",
       "      <td>7283952208561933599</td>\n",
       "      <td>repstansbury</td>\n",
       "      <td>female</td>\n",
       "    </tr>\n",
       "    <tr>\n",
       "      <th>4</th>\n",
       "      <td>0.013974</td>\n",
       "      <td>0.013107</td>\n",
       "      <td>0.011632</td>\n",
       "      <td>0.610315</td>\n",
       "      <td>0.002965</td>\n",
       "      <td>0.077061</td>\n",
       "      <td>0.048861</td>\n",
       "      <td>0.03744</td>\n",
       "      <td>7283952208561933599</td>\n",
       "      <td>repstansbury</td>\n",
       "      <td>female</td>\n",
       "    </tr>\n",
       "  </tbody>\n",
       "</table>\n",
       "</div>"
      ],
      "text/plain": [
       "   SEXUALLY_EXPLICIT  IDENTITY_ATTACK    THREAT  LIKELY_TO_REJECT  \\\n",
       "0           0.013974         0.013107  0.011632          0.610315   \n",
       "1           0.013974         0.013107  0.011632          0.610315   \n",
       "2           0.013974         0.013107  0.011632          0.610315   \n",
       "3           0.013974         0.013107  0.011632          0.610315   \n",
       "4           0.013974         0.013107  0.011632          0.610315   \n",
       "\n",
       "   SEVERE_TOXICITY  TOXICITY    INSULT  PROFANITY             video_id  \\\n",
       "0         0.002965  0.077061  0.048861    0.03744  7283952208561933599   \n",
       "1         0.002965  0.077061  0.048861    0.03744  7283952208561933599   \n",
       "2         0.002965  0.077061  0.048861    0.03744  7283952208561933599   \n",
       "3         0.002965  0.077061  0.048861    0.03744  7283952208561933599   \n",
       "4         0.002965  0.077061  0.048861    0.03744  7283952208561933599   \n",
       "\n",
       "     politician  gender  \n",
       "0  repstansbury  female  \n",
       "1  repstansbury  female  \n",
       "2  repstansbury  female  \n",
       "3  repstansbury  female  \n",
       "4  repstansbury  female  "
      ]
     },
     "execution_count": 110,
     "metadata": {},
     "output_type": "execute_result"
    }
   ],
   "source": [
    "df_female_federal = flatten_datajson(female_federal, 'female', col_names_cats)\n",
    "df_female_federal.head()"
   ]
  },
  {
   "cell_type": "code",
   "execution_count": 111,
   "metadata": {},
   "outputs": [
    {
     "name": "stdout",
     "output_type": "stream",
     "text": [
      "Processing 30 videos from wileynickel\n",
      "Processing 35 videos from corybooker\n",
      "Processing 103 videos from jeffjacksonnc\n",
      "Processing 67 videos from greglandsmanoh\n",
      "Processing 15 videos from kevinmullinforcongress\n",
      "Processing 23 videos from repdeanphillips\n",
      "Processing 4 videos from repres\n",
      "Processing 33 videos from robertgarcia\n",
      "Processing 11 videos from jon\n",
      "Processing 131 videos from bernie\n",
      "Processing 33 videos from repbowman\n",
      "Processing 8 videos from troyc4congress\n",
      "Processing 50 videos from billpascrell\n",
      "Processing 39 videos from repcasar\n",
      "Processing 35 videos from repmaxwellfrost\n",
      "Processing 99 videos from colinallredtx\n",
      "Processing 50 videos from congressmancardenas\n",
      "Processing 3 videos from repmarktakano\n",
      "Processing 64 videos from johnfetterman\n",
      "Processing 13 videos from stevenahorsford\n",
      "Processing 18 videos from repmarkpocan\n"
     ]
    },
    {
     "data": {
      "text/html": [
       "<div>\n",
       "<style scoped>\n",
       "    .dataframe tbody tr th:only-of-type {\n",
       "        vertical-align: middle;\n",
       "    }\n",
       "\n",
       "    .dataframe tbody tr th {\n",
       "        vertical-align: top;\n",
       "    }\n",
       "\n",
       "    .dataframe thead th {\n",
       "        text-align: right;\n",
       "    }\n",
       "</style>\n",
       "<table border=\"1\" class=\"dataframe\">\n",
       "  <thead>\n",
       "    <tr style=\"text-align: right;\">\n",
       "      <th></th>\n",
       "      <th>LIKELY_TO_REJECT</th>\n",
       "      <th>SEVERE_TOXICITY</th>\n",
       "      <th>TOXICITY</th>\n",
       "      <th>SEXUALLY_EXPLICIT</th>\n",
       "      <th>IDENTITY_ATTACK</th>\n",
       "      <th>INSULT</th>\n",
       "      <th>THREAT</th>\n",
       "      <th>PROFANITY</th>\n",
       "      <th>video_id</th>\n",
       "      <th>politician</th>\n",
       "      <th>gender</th>\n",
       "    </tr>\n",
       "  </thead>\n",
       "  <tbody>\n",
       "    <tr>\n",
       "      <th>0</th>\n",
       "      <td>0.666542</td>\n",
       "      <td>0.011399</td>\n",
       "      <td>0.198919</td>\n",
       "      <td>0.01671</td>\n",
       "      <td>0.094777</td>\n",
       "      <td>0.144321</td>\n",
       "      <td>0.019813</td>\n",
       "      <td>0.06871</td>\n",
       "      <td>7359310165461568798</td>\n",
       "      <td>wileynickel</td>\n",
       "      <td>male</td>\n",
       "    </tr>\n",
       "    <tr>\n",
       "      <th>1</th>\n",
       "      <td>0.666542</td>\n",
       "      <td>0.011399</td>\n",
       "      <td>0.198919</td>\n",
       "      <td>0.01671</td>\n",
       "      <td>0.094777</td>\n",
       "      <td>0.144321</td>\n",
       "      <td>0.019813</td>\n",
       "      <td>0.06871</td>\n",
       "      <td>7359310165461568798</td>\n",
       "      <td>wileynickel</td>\n",
       "      <td>male</td>\n",
       "    </tr>\n",
       "    <tr>\n",
       "      <th>2</th>\n",
       "      <td>0.666542</td>\n",
       "      <td>0.011399</td>\n",
       "      <td>0.198919</td>\n",
       "      <td>0.01671</td>\n",
       "      <td>0.094777</td>\n",
       "      <td>0.144321</td>\n",
       "      <td>0.019813</td>\n",
       "      <td>0.06871</td>\n",
       "      <td>7359310165461568798</td>\n",
       "      <td>wileynickel</td>\n",
       "      <td>male</td>\n",
       "    </tr>\n",
       "    <tr>\n",
       "      <th>3</th>\n",
       "      <td>0.666542</td>\n",
       "      <td>0.011399</td>\n",
       "      <td>0.198919</td>\n",
       "      <td>0.01671</td>\n",
       "      <td>0.094777</td>\n",
       "      <td>0.144321</td>\n",
       "      <td>0.019813</td>\n",
       "      <td>0.06871</td>\n",
       "      <td>7359310165461568798</td>\n",
       "      <td>wileynickel</td>\n",
       "      <td>male</td>\n",
       "    </tr>\n",
       "    <tr>\n",
       "      <th>4</th>\n",
       "      <td>0.666542</td>\n",
       "      <td>0.011399</td>\n",
       "      <td>0.198919</td>\n",
       "      <td>0.01671</td>\n",
       "      <td>0.094777</td>\n",
       "      <td>0.144321</td>\n",
       "      <td>0.019813</td>\n",
       "      <td>0.06871</td>\n",
       "      <td>7359310165461568798</td>\n",
       "      <td>wileynickel</td>\n",
       "      <td>male</td>\n",
       "    </tr>\n",
       "  </tbody>\n",
       "</table>\n",
       "</div>"
      ],
      "text/plain": [
       "   LIKELY_TO_REJECT  SEVERE_TOXICITY  TOXICITY  SEXUALLY_EXPLICIT  \\\n",
       "0          0.666542         0.011399  0.198919            0.01671   \n",
       "1          0.666542         0.011399  0.198919            0.01671   \n",
       "2          0.666542         0.011399  0.198919            0.01671   \n",
       "3          0.666542         0.011399  0.198919            0.01671   \n",
       "4          0.666542         0.011399  0.198919            0.01671   \n",
       "\n",
       "   IDENTITY_ATTACK    INSULT    THREAT  PROFANITY             video_id  \\\n",
       "0         0.094777  0.144321  0.019813    0.06871  7359310165461568798   \n",
       "1         0.094777  0.144321  0.019813    0.06871  7359310165461568798   \n",
       "2         0.094777  0.144321  0.019813    0.06871  7359310165461568798   \n",
       "3         0.094777  0.144321  0.019813    0.06871  7359310165461568798   \n",
       "4         0.094777  0.144321  0.019813    0.06871  7359310165461568798   \n",
       "\n",
       "    politician gender  \n",
       "0  wileynickel   male  \n",
       "1  wileynickel   male  \n",
       "2  wileynickel   male  \n",
       "3  wileynickel   male  \n",
       "4  wileynickel   male  "
      ]
     },
     "execution_count": 111,
     "metadata": {},
     "output_type": "execute_result"
    }
   ],
   "source": [
    "df_male_federal = flatten_datajson(male_federal, 'male', col_names_cats)\n",
    "df_male_federal.head()"
   ]
  },
  {
   "cell_type": "markdown",
   "metadata": {},
   "source": [
    "<a class=\"anchor\" id=\"2\"></a>\n",
    "### 2. Side-by-side bar chart"
   ]
  },
  {
   "cell_type": "code",
   "execution_count": 141,
   "metadata": {},
   "outputs": [],
   "source": [
    "import numpy as np\n",
    "import matplotlib.pyplot as plt\n",
    "import seaborn as sns"
   ]
  },
  {
   "cell_type": "markdown",
   "metadata": {},
   "source": [
    "#### By gender"
   ]
  },
  {
   "cell_type": "code",
   "execution_count": 128,
   "metadata": {},
   "outputs": [
    {
     "data": {
      "image/png": "[encoded data removed]",
      "text/plain": [
       "<Figure size 640x480 with 1 Axes>"
      ]
     },
     "metadata": {},
     "output_type": "display_data"
    }
   ],
   "source": [
    "male_federal_avgs = df_male_federal[col_names_cats].mean().to_list()\n",
    "fem_federal_avgs = df_female_federal[col_names_cats].mean().to_list()\n",
    "\n",
    "x_axis = np.arange(len(col_names_cats))\n",
    "\n",
    "plt.bar(x_axis - 0.2, male_federal_avgs, 0.4, label = 'Males') \n",
    "plt.bar(x_axis + 0.2, fem_federal_avgs, 0.4, label = 'Females') \n",
    "  \n",
    "plt.xticks(x_axis, col_names_cats, rotation='vertical') \n",
    "plt.xlabel(\"Stances\") \n",
    "plt.ylabel(\"Proportion of comments\") \n",
    "plt.title(\"Average proportion of comments with stances for male vs female politicians\") \n",
    "plt.legend() \n",
    "plt.show() "
   ]
  },
  {
   "cell_type": "markdown",
   "metadata": {},
   "source": [
    "#### By politician"
   ]
  },
  {
   "cell_type": "code",
   "execution_count": 142,
   "metadata": {},
   "outputs": [],
   "source": [
    "temp = df_female_federal.groupby(\"politician\")[col_names_cats].mean().reset_index()"
   ]
  },
  {
   "cell_type": "code",
   "execution_count": 143,
   "metadata": {},
   "outputs": [
    {
     "data": {
      "text/html": [
       "<div>\n",
       "<style scoped>\n",
       "    .dataframe tbody tr th:only-of-type {\n",
       "        vertical-align: middle;\n",
       "    }\n",
       "\n",
       "    .dataframe tbody tr th {\n",
       "        vertical-align: top;\n",
       "    }\n",
       "\n",
       "    .dataframe thead th {\n",
       "        text-align: right;\n",
       "    }\n",
       "</style>\n",
       "<table border=\"1\" class=\"dataframe\">\n",
       "  <thead>\n",
       "    <tr style=\"text-align: right;\">\n",
       "      <th></th>\n",
       "      <th>politician</th>\n",
       "      <th>SEXUALLY_EXPLICIT</th>\n",
       "      <th>IDENTITY_ATTACK</th>\n",
       "      <th>THREAT</th>\n",
       "      <th>LIKELY_TO_REJECT</th>\n",
       "      <th>SEVERE_TOXICITY</th>\n",
       "      <th>TOXICITY</th>\n",
       "      <th>INSULT</th>\n",
       "      <th>PROFANITY</th>\n",
       "    </tr>\n",
       "  </thead>\n",
       "  <tbody>\n",
       "    <tr>\n",
       "      <th>0</th>\n",
       "      <td>aoc</td>\n",
       "      <td>0.020693</td>\n",
       "      <td>0.040428</td>\n",
       "      <td>0.037192</td>\n",
       "      <td>0.630836</td>\n",
       "      <td>0.012777</td>\n",
       "      <td>0.140230</td>\n",
       "      <td>0.088902</td>\n",
       "      <td>0.057219</td>\n",
       "    </tr>\n",
       "    <tr>\n",
       "      <th>1</th>\n",
       "      <td>ilhanmn</td>\n",
       "      <td>0.026569</td>\n",
       "      <td>0.051306</td>\n",
       "      <td>0.019675</td>\n",
       "      <td>0.773664</td>\n",
       "      <td>0.011858</td>\n",
       "      <td>0.125214</td>\n",
       "      <td>0.073342</td>\n",
       "      <td>0.055371</td>\n",
       "    </tr>\n",
       "    <tr>\n",
       "      <th>2</th>\n",
       "      <td>kirstengillibrand</td>\n",
       "      <td>0.032653</td>\n",
       "      <td>0.022644</td>\n",
       "      <td>0.023873</td>\n",
       "      <td>0.662145</td>\n",
       "      <td>0.023805</td>\n",
       "      <td>0.151280</td>\n",
       "      <td>0.092627</td>\n",
       "      <td>0.083264</td>\n",
       "    </tr>\n",
       "    <tr>\n",
       "      <th>3</th>\n",
       "      <td>marieforcongress</td>\n",
       "      <td>0.021126</td>\n",
       "      <td>0.024855</td>\n",
       "      <td>0.029958</td>\n",
       "      <td>0.672245</td>\n",
       "      <td>0.008679</td>\n",
       "      <td>0.088656</td>\n",
       "      <td>0.050140</td>\n",
       "      <td>0.038169</td>\n",
       "    </tr>\n",
       "    <tr>\n",
       "      <th>4</th>\n",
       "      <td>nikemawilliams</td>\n",
       "      <td>0.015327</td>\n",
       "      <td>0.008784</td>\n",
       "      <td>0.010371</td>\n",
       "      <td>0.729402</td>\n",
       "      <td>0.003280</td>\n",
       "      <td>0.062354</td>\n",
       "      <td>0.039935</td>\n",
       "      <td>0.028283</td>\n",
       "    </tr>\n",
       "  </tbody>\n",
       "</table>\n",
       "</div>"
      ],
      "text/plain": [
       "          politician  SEXUALLY_EXPLICIT  IDENTITY_ATTACK    THREAT  \\\n",
       "0                aoc           0.020693         0.040428  0.037192   \n",
       "1            ilhanmn           0.026569         0.051306  0.019675   \n",
       "2  kirstengillibrand           0.032653         0.022644  0.023873   \n",
       "3   marieforcongress           0.021126         0.024855  0.029958   \n",
       "4     nikemawilliams           0.015327         0.008784  0.010371   \n",
       "\n",
       "   LIKELY_TO_REJECT  SEVERE_TOXICITY  TOXICITY    INSULT  PROFANITY  \n",
       "0          0.630836         0.012777  0.140230  0.088902   0.057219  \n",
       "1          0.773664         0.011858  0.125214  0.073342   0.055371  \n",
       "2          0.662145         0.023805  0.151280  0.092627   0.083264  \n",
       "3          0.672245         0.008679  0.088656  0.050140   0.038169  \n",
       "4          0.729402         0.003280  0.062354  0.039935   0.028283  "
      ]
     },
     "execution_count": 143,
     "metadata": {},
     "output_type": "execute_result"
    }
   ],
   "source": [
    "temp.head()"
   ]
  },
  {
   "cell_type": "code",
   "execution_count": 146,
   "metadata": {},
   "outputs": [
    {
     "ename": "ValueError",
     "evalue": "var_name=['SEXUALLY_EXPLICIT', 'IDENTITY_ATTACK', 'THREAT', 'LIKELY_TO_REJECT', 'SEVERE_TOXICITY', 'TOXICITY', 'INSULT', 'PROFANITY'] must be a scalar.",
     "output_type": "error",
     "traceback": [
      "\u001b[0;31m---------------------------------------------------------------------------\u001b[0m",
      "\u001b[0;31mValueError\u001b[0m                                Traceback (most recent call last)",
      "Cell \u001b[0;32mIn[146], line 1\u001b[0m\n\u001b[0;32m----> 1\u001b[0m \u001b[43mpd\u001b[49m\u001b[38;5;241;43m.\u001b[39;49m\u001b[43mwide_to_long\u001b[49m\u001b[43m(\u001b[49m\u001b[43mtemp\u001b[49m\u001b[43m,\u001b[49m\u001b[43m \u001b[49m\u001b[43mstubnames\u001b[49m\u001b[38;5;241;43m=\u001b[39;49m\u001b[38;5;124;43m'\u001b[39;49m\u001b[38;5;124;43mvalues\u001b[39;49m\u001b[38;5;124;43m'\u001b[39;49m\u001b[43m,\u001b[49m\u001b[43m \u001b[49m\u001b[43mi\u001b[49m\u001b[38;5;241;43m=\u001b[39;49m\u001b[43m[\u001b[49m\u001b[38;5;124;43m'\u001b[39;49m\u001b[38;5;124;43mpolitician\u001b[39;49m\u001b[38;5;124;43m'\u001b[39;49m\u001b[43m]\u001b[49m\u001b[43m,\u001b[49m\u001b[43m \u001b[49m\u001b[43mj\u001b[49m\u001b[38;5;241;43m=\u001b[39;49m\u001b[43mcol_names_cats\u001b[49m\u001b[43m)\u001b[49m\n",
      "File \u001b[0;32m~/miniconda3/envs/proj2/lib/python3.12/site-packages/pandas/core/reshape/melt.py:503\u001b[0m, in \u001b[0;36mwide_to_long\u001b[0;34m(df, stubnames, i, j, sep, suffix)\u001b[0m\n\u001b[1;32m    501\u001b[0m     value_var \u001b[38;5;241m=\u001b[39m get_var_names(df, stub, sep, suffix)\n\u001b[1;32m    502\u001b[0m     value_vars_flattened\u001b[38;5;241m.\u001b[39mextend(value_var)\n\u001b[0;32m--> 503\u001b[0m     _melted\u001b[38;5;241m.\u001b[39mappend(\u001b[43mmelt_stub\u001b[49m\u001b[43m(\u001b[49m\u001b[43mdf\u001b[49m\u001b[43m,\u001b[49m\u001b[43m \u001b[49m\u001b[43mstub\u001b[49m\u001b[43m,\u001b[49m\u001b[43m \u001b[49m\u001b[43mi\u001b[49m\u001b[43m,\u001b[49m\u001b[43m \u001b[49m\u001b[43mj\u001b[49m\u001b[43m,\u001b[49m\u001b[43m \u001b[49m\u001b[43mvalue_var\u001b[49m\u001b[43m,\u001b[49m\u001b[43m \u001b[49m\u001b[43msep\u001b[49m\u001b[43m)\u001b[49m)\n\u001b[1;32m    505\u001b[0m melted \u001b[38;5;241m=\u001b[39m concat(_melted, axis\u001b[38;5;241m=\u001b[39m\u001b[38;5;241m1\u001b[39m)\n\u001b[1;32m    506\u001b[0m id_vars \u001b[38;5;241m=\u001b[39m df\u001b[38;5;241m.\u001b[39mcolumns\u001b[38;5;241m.\u001b[39mdifference(value_vars_flattened)\n",
      "File \u001b[0;32m~/miniconda3/envs/proj2/lib/python3.12/site-packages/pandas/core/reshape/melt.py:464\u001b[0m, in \u001b[0;36mwide_to_long.<locals>.melt_stub\u001b[0;34m(df, stub, i, j, value_vars, sep)\u001b[0m\n\u001b[1;32m    463\u001b[0m \u001b[38;5;28;01mdef\u001b[39;00m \u001b[38;5;21mmelt_stub\u001b[39m(df, stub: \u001b[38;5;28mstr\u001b[39m, i, j, value_vars, sep: \u001b[38;5;28mstr\u001b[39m):\n\u001b[0;32m--> 464\u001b[0m     newdf \u001b[38;5;241m=\u001b[39m \u001b[43mmelt\u001b[49m\u001b[43m(\u001b[49m\n\u001b[1;32m    465\u001b[0m \u001b[43m        \u001b[49m\u001b[43mdf\u001b[49m\u001b[43m,\u001b[49m\n\u001b[1;32m    466\u001b[0m \u001b[43m        \u001b[49m\u001b[43mid_vars\u001b[49m\u001b[38;5;241;43m=\u001b[39;49m\u001b[43mi\u001b[49m\u001b[43m,\u001b[49m\n\u001b[1;32m    467\u001b[0m \u001b[43m        \u001b[49m\u001b[43mvalue_vars\u001b[49m\u001b[38;5;241;43m=\u001b[39;49m\u001b[43mvalue_vars\u001b[49m\u001b[43m,\u001b[49m\n\u001b[1;32m    468\u001b[0m \u001b[43m        \u001b[49m\u001b[43mvalue_name\u001b[49m\u001b[38;5;241;43m=\u001b[39;49m\u001b[43mstub\u001b[49m\u001b[38;5;241;43m.\u001b[39;49m\u001b[43mrstrip\u001b[49m\u001b[43m(\u001b[49m\u001b[43msep\u001b[49m\u001b[43m)\u001b[49m\u001b[43m,\u001b[49m\n\u001b[1;32m    469\u001b[0m \u001b[43m        \u001b[49m\u001b[43mvar_name\u001b[49m\u001b[38;5;241;43m=\u001b[39;49m\u001b[43mj\u001b[49m\u001b[43m,\u001b[49m\n\u001b[1;32m    470\u001b[0m \u001b[43m    \u001b[49m\u001b[43m)\u001b[49m\n\u001b[1;32m    471\u001b[0m     newdf[j] \u001b[38;5;241m=\u001b[39m newdf[j]\u001b[38;5;241m.\u001b[39mstr\u001b[38;5;241m.\u001b[39mreplace(re\u001b[38;5;241m.\u001b[39mescape(stub \u001b[38;5;241m+\u001b[39m sep), \u001b[38;5;124m\"\u001b[39m\u001b[38;5;124m\"\u001b[39m, regex\u001b[38;5;241m=\u001b[39m\u001b[38;5;28;01mTrue\u001b[39;00m)\n\u001b[1;32m    473\u001b[0m     \u001b[38;5;66;03m# GH17627 Cast numerics suffixes to int/float\u001b[39;00m\n",
      "File \u001b[0;32m~/miniconda3/envs/proj2/lib/python3.12/site-packages/pandas/core/reshape/melt.py:100\u001b[0m, in \u001b[0;36mmelt\u001b[0;34m(frame, id_vars, value_vars, var_name, value_name, col_level, ignore_index)\u001b[0m\n\u001b[1;32m     96\u001b[0m         var_name \u001b[38;5;241m=\u001b[39m [\n\u001b[1;32m     97\u001b[0m             frame\u001b[38;5;241m.\u001b[39mcolumns\u001b[38;5;241m.\u001b[39mname \u001b[38;5;28;01mif\u001b[39;00m frame\u001b[38;5;241m.\u001b[39mcolumns\u001b[38;5;241m.\u001b[39mname \u001b[38;5;129;01mis\u001b[39;00m \u001b[38;5;129;01mnot\u001b[39;00m \u001b[38;5;28;01mNone\u001b[39;00m \u001b[38;5;28;01melse\u001b[39;00m \u001b[38;5;124m\"\u001b[39m\u001b[38;5;124mvariable\u001b[39m\u001b[38;5;124m\"\u001b[39m\n\u001b[1;32m     98\u001b[0m         ]\n\u001b[1;32m     99\u001b[0m \u001b[38;5;28;01melif\u001b[39;00m is_list_like(var_name):\n\u001b[0;32m--> 100\u001b[0m     \u001b[38;5;28;01mraise\u001b[39;00m \u001b[38;5;167;01mValueError\u001b[39;00m(\u001b[38;5;124mf\u001b[39m\u001b[38;5;124m\"\u001b[39m\u001b[38;5;132;01m{\u001b[39;00mvar_name\u001b[38;5;132;01m=}\u001b[39;00m\u001b[38;5;124m must be a scalar.\u001b[39m\u001b[38;5;124m\"\u001b[39m)\n\u001b[1;32m    101\u001b[0m \u001b[38;5;28;01melse\u001b[39;00m:\n\u001b[1;32m    102\u001b[0m     var_name \u001b[38;5;241m=\u001b[39m [var_name]\n",
      "\u001b[0;31mValueError\u001b[0m: var_name=['SEXUALLY_EXPLICIT', 'IDENTITY_ATTACK', 'THREAT', 'LIKELY_TO_REJECT', 'SEVERE_TOXICITY', 'TOXICITY', 'INSULT', 'PROFANITY'] must be a scalar."
     ]
    }
   ],
   "source": [
    "pd.wide_to_long(temp, stubnames='values', i=['politician'], j=col_names_cats)"
   ]
  },
  {
   "cell_type": "code",
   "execution_count": null,
   "metadata": {},
   "outputs": [],
   "source": [
    "sns.barplot(data=temp, x='Y', hue='Z', y='X')"
   ]
  },
  {
   "cell_type": "code",
   "execution_count": 140,
   "metadata": {},
   "outputs": [
    {
     "data": {
      "text/plain": [
       "<Axes: xlabel='politician'>"
      ]
     },
     "execution_count": 140,
     "metadata": {},
     "output_type": "execute_result"
    },
    {
     "data": {
      "image/png": "[encoded data removed]",
      "text/plain": [
       "<Figure size 640x480 with 1 Axes>"
      ]
     },
     "metadata": {},
     "output_type": "display_data"
    }
   ],
   "source": [
    "temp.set_index('politician').plot.bar()\n"
   ]
  },
  {
   "cell_type": "code",
   "execution_count": null,
   "metadata": {},
   "outputs": [],
   "source": [
    "male_federal_avgs = df_male_federal[col_names_cats].mean().to_list()\n",
    "fem_federal_avgs = df_female_federal[col_names_cats].mean().to_list()\n",
    "\n",
    "x_axis = np.arange(len(col_names_cats))\n",
    "\n",
    "plt.bar(x_axis - 0.2, male_federal_avgs, 0.4, label = 'Males') \n",
    "plt.bar(x_axis + 0.2, fem_federal_avgs, 0.4, label = 'Females') \n",
    "  \n",
    "plt.xticks(x_axis, col_names_cats, rotation='vertical') \n",
    "plt.xlabel(\"Stances\") \n",
    "plt.ylabel(\"Proportion of comments\") \n",
    "plt.title(\"Average proportion of comments with stances for male vs female politicians\") \n",
    "plt.legend() \n",
    "plt.show() "
   ]
  },
  {
   "cell_type": "markdown",
   "metadata": {},
   "source": [
    "## Code graveyard"
   ]
  },
  {
   "cell_type": "code",
   "execution_count": 1,
   "metadata": {},
   "outputs": [
    {
     "name": "stdout",
     "output_type": "stream",
     "text": [
      "Collecting flatten-dict\n",
      "  Downloading flatten_dict-0.4.2-py2.py3-none-any.whl.metadata (9.2 kB)\n",
      "Requirement already satisfied: six<2.0,>=1.12 in /Users/tayaerogers/miniconda3/envs/proj2/lib/python3.12/site-packages (from flatten-dict) (1.16.0)\n",
      "Downloading flatten_dict-0.4.2-py2.py3-none-any.whl (9.7 kB)\n",
      "Installing collected packages: flatten-dict\n",
      "Successfully installed flatten-dict-0.4.2\n",
      "Note: you may need to restart the kernel to use updated packages.\n"
     ]
    }
   ],
   "source": [
    "pip install flatten-dict"
   ]
  },
  {
   "cell_type": "code",
   "execution_count": 10,
   "metadata": {},
   "outputs": [],
   "source": [
    "from flatten_dict import flatten"
   ]
  },
  {
   "cell_type": "code",
   "execution_count": 18,
   "metadata": {},
   "outputs": [],
   "source": [
    "female_flat = flatten(female['repstansbury'][\"7283952208561933599\"])"
   ]
  },
  {
   "cell_type": "code",
   "execution_count": 19,
   "metadata": {},
   "outputs": [
    {
     "data": {
      "text/html": [
       "<div>\n",
       "<style scoped>\n",
       "    .dataframe tbody tr th:only-of-type {\n",
       "        vertical-align: middle;\n",
       "    }\n",
       "\n",
       "    .dataframe tbody tr th {\n",
       "        vertical-align: top;\n",
       "    }\n",
       "\n",
       "    .dataframe thead th {\n",
       "        text-align: right;\n",
       "    }\n",
       "</style>\n",
       "<table border=\"1\" class=\"dataframe\">\n",
       "  <thead>\n",
       "    <tr style=\"text-align: right;\">\n",
       "      <th></th>\n",
       "      <th>0</th>\n",
       "    </tr>\n",
       "  </thead>\n",
       "  <tbody>\n",
       "    <tr>\n",
       "      <th>(SEXUALLY_EXPLICIT,)</th>\n",
       "      <td>0.013974</td>\n",
       "    </tr>\n",
       "    <tr>\n",
       "      <th>(IDENTITY_ATTACK,)</th>\n",
       "      <td>0.013107</td>\n",
       "    </tr>\n",
       "    <tr>\n",
       "      <th>(THREAT,)</th>\n",
       "      <td>0.011632</td>\n",
       "    </tr>\n",
       "    <tr>\n",
       "      <th>(LIKELY_TO_REJECT,)</th>\n",
       "      <td>0.610315</td>\n",
       "    </tr>\n",
       "    <tr>\n",
       "      <th>(SEVERE_TOXICITY,)</th>\n",
       "      <td>0.002965</td>\n",
       "    </tr>\n",
       "  </tbody>\n",
       "</table>\n",
       "</div>"
      ],
      "text/plain": [
       "                             0\n",
       "(SEXUALLY_EXPLICIT,)  0.013974\n",
       "(IDENTITY_ATTACK,)    0.013107\n",
       "(THREAT,)             0.011632\n",
       "(LIKELY_TO_REJECT,)   0.610315\n",
       "(SEVERE_TOXICITY,)    0.002965"
      ]
     },
     "execution_count": 19,
     "metadata": {},
     "output_type": "execute_result"
    }
   ],
   "source": [
    "female_df = pd.DataFrame.from_dict(female_flat, orient=\"index\")\n",
    "female_df.head()"
   ]
  },
  {
   "cell_type": "markdown",
   "metadata": {},
   "source": []
  }
 ],
 "metadata": {
  "kernelspec": {
   "display_name": "proj2",
   "language": "python",
   "name": "python3"
  },
  "language_info": {
   "codemirror_mode": {
    "name": "ipython",
    "version": 3
   },
   "file_extension": ".py",
   "mimetype": "text/x-python",
   "name": "python",
   "nbconvert_exporter": "python",
   "pygments_lexer": "ipython3",
   "version": "3.12.2"
  }
 },
 "nbformat": 4,
 "nbformat_minor": 2
}
