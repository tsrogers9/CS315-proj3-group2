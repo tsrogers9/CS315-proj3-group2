{
 "cells": [
  {
   "cell_type": "markdown",
   "metadata": {},
   "source": [
    "# Data Exploration:\n",
    "Will get: Video count for each acct and top accts\n",
    "\n",
    "\n",
    "\n",
    "Author: Josie Ramirez\n"
   ]
  },
  {
   "cell_type": "code",
   "execution_count": 1,
   "metadata": {},
   "outputs": [],
   "source": [
    "import pandas as pd\n",
    "import os\n",
    "import json\n",
    "import re"
   ]
  },
  {
   "cell_type": "markdown",
   "metadata": {},
   "source": [
    "be in output_desired gender\n",
    "go into each file, storing the name and counting how many video ids there are\n",
    "put into dataframe\n",
    "\n",
    "result should be a list with the names of the files and how many videos in each\n",
    "\n",
    "\n",
    "then i could get the max of that "
   ]
  },
  {
   "cell_type": "code",
   "execution_count": 2,
   "metadata": {},
   "outputs": [],
   "source": [
    "def videoCount(directory, key):\n",
    "    accts = {}\n",
    "   \n",
    "\n",
    "    for root, dirs, files in os.walk(directory):\n",
    "        for file in files:\n",
    "            if file.endswith(\".json\"):\n",
    "                file_path = os.path.join(root, file)\n",
    "                with open (file_path, 'r') as f:\n",
    "                    data = json.load(f)\n",
    "                    count = 0\n",
    "                    #print(\"Data from {}: {}\".format(file, data))  # Add this line for debugging\n",
    "                    for item in data:\n",
    "                         if key in item: \n",
    "                             count +=1\n",
    "\n",
    "                    accts[file] = count\n",
    "\n",
    "\n",
    "    return accts"
   ]
  },
  {
   "cell_type": "code",
   "execution_count": 3,
   "metadata": {},
   "outputs": [
    {
     "name": "stdout",
     "output_type": "stream",
     "text": [
      "                              File  Count\n",
      "0                  output_aoc.json     12\n",
      "1              output_ilhanmn.json     35\n",
      "2    output_kirstengillibrand.json     75\n",
      "3     output_marieforcongress.json     12\n",
      "4       output_nikemawilliams.json      3\n",
      "5         output_rashidatlaib.json     11\n",
      "6   output_repchrissyhoulahan.json      6\n",
      "7       output_repkatieporter.json     35\n",
      "8          output_reppressley.json     28\n",
      "9         output_repstansbury.json     35\n",
      "10        output_repsummerlee.json     56\n",
      "11           output_repwilson.json     20\n",
      "12    output_sheilaforhouston.json     83\n",
      "13     output_teampattymurray.json     35\n"
     ]
    }
   ],
   "source": [
    "directory = dir_path = r\"\\Users\\Ramirez\\CS315-proj3-group2\\1-data_collection\\output_female\"  #CHANGE ME!\n",
    "key= \"id\" \n",
    "accts = videoCount(directory, key)\n",
    "\n",
    "df = pd.DataFrame(list(accts.items()), columns=['File', 'Count'])\n",
    "print(df)\n",
    "\n",
    "#print(\"Count of key '{}' in each file:\".format(key))\n",
    "#for file, count in accts.items():\n",
    "    #print(\"File: {}, Count: {}\".format(file, count))"
   ]
  },
  {
   "cell_type": "code",
   "execution_count": 4,
   "metadata": {},
   "outputs": [
    {
     "name": "stdout",
     "output_type": "stream",
     "text": [
      "446\n",
      "File     output_sheilaforhouston.json\n",
      "Count                              83\n",
      "Name: 12, dtype: object\n"
     ]
    }
   ],
   "source": [
    "total_count = df['Count'].sum()\n",
    "print(total_count) #just double checking\n",
    "print(df.loc[df['Count'].idxmax()])"
   ]
  },
  {
   "cell_type": "markdown",
   "metadata": {},
   "source": [
    "Doing the same for males"
   ]
  },
  {
   "cell_type": "code",
   "execution_count": 5,
   "metadata": {},
   "outputs": [
    {
     "name": "stdout",
     "output_type": "stream",
     "text": [
      "                                  File  Count\n",
      "0                   output_bernie.json    139\n",
      "1             output_billpascrell.json     54\n",
      "2            output_colinallredtx.json     99\n",
      "3      output_congressmancardenas.json     74\n",
      "4               output_corybooker.json     35\n",
      "5           output_greglandsmanoh.json     73\n",
      "6            output_jeffjacksonnc.json    103\n",
      "7            output_johnfetterman.json     65\n",
      "8                      output_jon.json     11\n",
      "9   output_kevinmullinforcongress.json     32\n",
      "10               output_repbowman.json     34\n",
      "11                output_repcasar.json     43\n",
      "12         output_repdeanphillips.json     26\n",
      "13            output_repmarkpocan.json     19\n",
      "14           output_repmarktakano.json      3\n",
      "15         output_repmaxwellfrost.json     35\n",
      "16    output_repres.gerryconnolly.json      4\n",
      "17            output_robertgarcia.json     34\n",
      "18         output_stevenahorsford.json     21\n",
      "19          output_troyc4congress.json     17\n",
      "20             output_wileynickel.json     35\n"
     ]
    }
   ],
   "source": [
    "directory = dir_path = r\"\\Users\\Ramirez\\CS315-proj3-group2\\1-data_collection\\output_male\"  #CHANGE ME!\n",
    "key= \"id\" \n",
    "accts = videoCount(directory, key)\n",
    "\n",
    "df2 = pd.DataFrame(list(accts.items()), columns=['File', 'Count'])\n",
    "print(df2)\n",
    "\n"
   ]
  },
  {
   "cell_type": "code",
   "execution_count": 6,
   "metadata": {},
   "outputs": [
    {
     "name": "stdout",
     "output_type": "stream",
     "text": [
      "956\n",
      "File     output_bernie.json\n",
      "Count                   139\n",
      "Name: 0, dtype: object\n"
     ]
    }
   ],
   "source": [
    "total_count = df2['Count'].sum()\n",
    "print(total_count) #just double checking\n",
    "print(df2.loc[df2['Count'].idxmax()])\n"
   ]
  },
  {
   "cell_type": "code",
   "execution_count": 7,
   "metadata": {},
   "outputs": [
    {
     "name": "stdout",
     "output_type": "stream",
     "text": [
      "                                  File  Count\n",
      "0                   output_bernie.json    139\n",
      "6            output_jeffjacksonnc.json    103\n",
      "2            output_colinallredtx.json     99\n",
      "3      output_congressmancardenas.json     74\n",
      "5           output_greglandsmanoh.json     73\n",
      "7            output_johnfetterman.json     65\n",
      "1             output_billpascrell.json     54\n",
      "11                output_repcasar.json     43\n",
      "15         output_repmaxwellfrost.json     35\n",
      "20             output_wileynickel.json     35\n",
      "4               output_corybooker.json     35\n",
      "17            output_robertgarcia.json     34\n",
      "10               output_repbowman.json     34\n",
      "9   output_kevinmullinforcongress.json     32\n",
      "12         output_repdeanphillips.json     26\n",
      "18         output_stevenahorsford.json     21\n",
      "13            output_repmarkpocan.json     19\n",
      "19          output_troyc4congress.json     17\n",
      "8                      output_jon.json     11\n",
      "16    output_repres.gerryconnolly.json      4\n",
      "14           output_repmarktakano.json      3\n"
     ]
    }
   ],
   "source": [
    "print(df2.sort_values(by='Count', ascending=False))"
   ]
  },
  {
   "cell_type": "code",
   "execution_count": 8,
   "metadata": {},
   "outputs": [
    {
     "name": "stdout",
     "output_type": "stream",
     "text": [
      "                              File  Count\n",
      "12    output_sheilaforhouston.json     83\n",
      "2    output_kirstengillibrand.json     75\n",
      "10        output_repsummerlee.json     56\n",
      "1              output_ilhanmn.json     35\n",
      "7       output_repkatieporter.json     35\n",
      "9         output_repstansbury.json     35\n",
      "13     output_teampattymurray.json     35\n",
      "8          output_reppressley.json     28\n",
      "11           output_repwilson.json     20\n",
      "0                  output_aoc.json     12\n",
      "3     output_marieforcongress.json     12\n",
      "5         output_rashidatlaib.json     11\n",
      "6   output_repchrissyhoulahan.json      6\n",
      "4       output_nikemawilliams.json      3\n"
     ]
    }
   ],
   "source": [
    "\n",
    "print(df.sort_values(by='Count', ascending=False))"
   ]
  },
  {
   "cell_type": "code",
   "execution_count": 9,
   "metadata": {},
   "outputs": [
    {
     "name": "stdout",
     "output_type": "stream",
     "text": [
      "                                  File  Count\n",
      "0                   output_bernie.json    139\n",
      "1             output_billpascrell.json     54\n",
      "2            output_colinallredtx.json     99\n",
      "3      output_congressmancardenas.json     74\n",
      "4               output_corybooker.json     35\n",
      "5           output_greglandsmanoh.json     73\n",
      "6            output_jeffjacksonnc.json    103\n",
      "7            output_johnfetterman.json     65\n",
      "8                      output_jon.json     11\n",
      "9   output_kevinmullinforcongress.json     32\n",
      "10               output_repbowman.json     34\n",
      "11                output_repcasar.json     43\n",
      "12         output_repdeanphillips.json     26\n",
      "13            output_repmarkpocan.json     19\n",
      "14           output_repmarktakano.json      3\n",
      "15         output_repmaxwellfrost.json     35\n",
      "16    output_repres.gerryconnolly.json      4\n",
      "17            output_robertgarcia.json     34\n",
      "18         output_stevenahorsford.json     21\n",
      "19          output_troyc4congress.json     17\n",
      "20             output_wileynickel.json     35\n"
     ]
    }
   ],
   "source": [
    "directory = dir_path = r\"\\Users\\Ramirez\\CS315-proj3-group2\\1-data_collection\\output_male\"  #CHANGE ME!\n",
    "key= \"comments\" \n",
    "accts = videoCount(directory, key)\n",
    "\n",
    "df3 = pd.DataFrame(list(accts.items()), columns=['File', 'Count'])\n",
    "print(df3)"
   ]
  }
 ],
 "metadata": {
  "kernelspec": {
   "display_name": "Python 3",
   "language": "python",
   "name": "python3"
  },
  "language_info": {
   "codemirror_mode": {
    "name": "ipython",
    "version": 3
   },
   "file_extension": ".py",
   "mimetype": "text/x-python",
   "name": "python",
   "nbconvert_exporter": "python",
   "pygments_lexer": "ipython3",
   "version": "3.11.9"
  }
 },
 "nbformat": 4,
 "nbformat_minor": 2
}
