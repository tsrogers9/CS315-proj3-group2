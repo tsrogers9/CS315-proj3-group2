{
 "cells": [
  {
   "cell_type": "markdown",
   "metadata": {},
   "source": [
    "### Exploratory Data Analysis\n",
    "Last modified: 4/30/24 \\\n",
    "Author: Caroline Jung"
   ]
  },
  {
   "cell_type": "code",
   "execution_count": 1,
   "metadata": {},
   "outputs": [],
   "source": [
    "import pandas as pd"
   ]
  },
  {
   "cell_type": "code",
   "execution_count": 2,
   "metadata": {},
   "outputs": [],
   "source": [
    "dir_path = \"/users/carolinejung/CS315-proj3-group2/1-data_collection/\" #CHANGE ME!"
   ]
  },
  {
   "cell_type": "code",
   "execution_count": 10,
   "metadata": {},
   "outputs": [],
   "source": [
    "female = pd.read_csv(dir_path+\"compiled_data/female.csv\")\n",
    "male = pd.read_csv(dir_path+\"compiled_data/male.csv\")"
   ]
  },
  {
   "cell_type": "code",
   "execution_count": 30,
   "metadata": {},
   "outputs": [],
   "source": [
    "def count(gender, file):\n",
    "    num_words_desc, num_words_comments = 0, 0\n",
    "    for description in file[\"description_list\"]:\n",
    "        num_words_desc += len(description)\n",
    "    for comments in file[\"comments\"]:\n",
    "        for comment in comments:\n",
    "            num_words_comments += len(comment)\n",
    "    return num_words_desc, num_words_comments\n",
    "\n",
    "def summary(gender, file):\n",
    "    if gender==\"F\":\n",
    "        name = \"female\"\n",
    "    elif gender==\"M\":\n",
    "        name = \"male\"\n",
    "    print(f\"number of words in all descriptions for {name}: \", count(gender, file)[0])\n",
    "    print(f\"number of words in all comments for {name}: \", count(gender, file)[1])"
   ]
  },
  {
   "cell_type": "code",
   "execution_count": 31,
   "metadata": {},
   "outputs": [
    {
     "name": "stdout",
     "output_type": "stream",
     "text": [
      "number of female accounts:  446\n",
      "number of words in all descriptions for female:  84514\n",
      "number of words in all comments for female:  1043260\n",
      "number of male accounts:  956\n",
      "number of words in all descriptions for male:  181546\n",
      "number of words in all comments for male:  2105258\n"
     ]
    }
   ],
   "source": [
    "print(\"number of female accounts: \", female.shape[0])\n",
    "summary(\"F\", female)\n",
    "print(\"number of male accounts: \", male.shape[0])\n",
    "summary(\"M\", male)"
   ]
  }
 ],
 "metadata": {
  "kernelspec": {
   "display_name": "venv",
   "language": "python",
   "name": "python3"
  },
  "language_info": {
   "codemirror_mode": {
    "name": "ipython",
    "version": 3
   },
   "file_extension": ".py",
   "mimetype": "text/x-python",
   "name": "python",
   "nbconvert_exporter": "python",
   "pygments_lexer": "ipython3",
   "version": "3.11.5"
  }
 },
 "nbformat": 4,
 "nbformat_minor": 2
}
