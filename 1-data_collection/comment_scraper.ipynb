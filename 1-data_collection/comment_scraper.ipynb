{
 "cells": [
  {
   "cell_type": "code",
   "execution_count": 2,
   "id": "c819c68f-5571-4802-a131-36ad84e85e14",
   "metadata": {},
   "outputs": [],
   "source": [
    "from selenium import webdriver\n",
    "from selenium.webdriver.chrome.options import Options\n",
    "from selenium.webdriver.chrome.service import Service\n",
    "from webdriver_manager.chrome import ChromeDriverManager\n",
    "from selenium.webdriver.common.by import By\n",
    "from selenium.webdriver.common.action_chains import ActionChains\n",
    "from selenium.webdriver.common.keys import Keys\n",
    "import time"
   ]
  },
  {
   "cell_type": "code",
   "execution_count": 3,
   "id": "8535892b-8b2e-46a5-b397-659392026f69",
   "metadata": {},
   "outputs": [],
   "source": [
    "# Set up Chrome options\n",
    "options = Options()\n",
    "options.add_experimental_option(\"debuggerAddress\", \"127.0.0.1:9222\")\n",
    "\n",
    "# Path to your ChromeDriver\n",
    "service = Service(ChromeDriverManager().install())\n",
    "\n",
    "# Connect to the existing Chrome browser session\n",
    "driver = webdriver.Chrome(service=service, options=options)"
   ]
  },
  {
   "cell_type": "code",
   "execution_count": 10,
   "id": "b6ae2e30-c824-4614-b4dd-2a05554054ae",
   "metadata": {},
   "outputs": [],
   "source": [
    "def getComments(driver):\n",
    "    \"\"\"Given an open driver instance on a TikTok account page, \n",
    "    get the list of video URLs that are accessible.\n",
    "    \"\"\"\n",
    "    time.sleep(2) # in case the page hasn't loaded yet\n",
    "\n",
    "    all_comments = []\n",
    "    # Get the comments\n",
    "    try:\n",
    "        container = driver.find_element(By.XPATH, \".//*[@class='css-xm2h10-PCommentText e1g2efjf6']//span[@dir]\")\n",
    "        for comment in comments:\n",
    "                comment_text = comment.text\n",
    "                all_comments.append(comment_text)\n",
    "        return all_comments\n",
    "    except Exception as e:\n",
    "        print(f\"Container: An unexpected error occurred\")\n",
    "        return []"
   ]
  },
  {
   "cell_type": "code",
   "execution_count": 14,
   "id": "d952e1a4-bc12-4b07-a627-f2010add4ae7",
   "metadata": {},
   "outputs": [],
   "source": [
    "def scroll_to_bottom(driver):\n",
    "        scroll_time = 5\n",
    "        try:\n",
    "            comment_elements = driver.find_elements(By.XPATH, \".//*[@class='css-1i7ohvi-DivCommentItemContainer eo72wou0']\")\n",
    "            if comment_elements == []:\n",
    "                print(\"no comments found\")\n",
    "                return \n",
    "            while scroll_time >= 0:\n",
    "                driver.actions.move_to_element(comment_elements[-1]).perform()\n",
    "                driver.chromebrowser.execute_script(\"window.scrollBy(0, 200);\")\n",
    "                time.sleep(2.5)\n",
    "                comment_elements = driver.find_elements(By.XPATH, \".//*[@class='css-1i7ohvi-DivCommentItemContainer eo72wou0']\")\n",
    "                scroll_time -= 1\n",
    "        except NoSuchElementException:\n",
    "            print(\"Not able to scroll for 5 times.\")\n",
    "            return None"
   ]
  },
  {
   "cell_type": "code",
   "execution_count": 15,
   "id": "f72f2c77-dc45-4854-a655-1fa369c35e5e",
   "metadata": {},
   "outputs": [
    {
     "name": "stdout",
     "output_type": "stream",
     "text": [
      "no comments found\n",
      "Container: An unexpected error occurred\n"
     ]
    },
    {
     "data": {
      "text/plain": [
       "0"
      ]
     },
     "execution_count": 15,
     "metadata": {},
     "output_type": "execute_result"
    }
   ],
   "source": [
    "url = \"https://www.tiktok.com/@taylorswift/video/7358619916418960686\"\n",
    "driver.get(url)\n",
    "scroll_to_bottom(driver)\n",
    "\n",
    "posts = getComments(driver)\n",
    "len(posts)"
   ]
  },
  {
   "cell_type": "code",
   "execution_count": null,
   "id": "ec32af85-8941-44e5-9456-ec2987bdc1a1",
   "metadata": {},
   "outputs": [],
   "source": []
  },
  {
   "cell_type": "code",
   "execution_count": null,
   "id": "c70cced0-3515-4484-ad81-5f9b5477cdd6",
   "metadata": {},
   "outputs": [],
   "source": []
  }
 ],
 "metadata": {
  "kernelspec": {
   "display_name": "Python 3 (ipykernel)",
   "language": "python",
   "name": "python3"
  },
  "language_info": {
   "codemirror_mode": {
    "name": "ipython",
    "version": 3
   },
   "file_extension": ".py",
   "mimetype": "text/x-python",
   "name": "python",
   "nbconvert_exporter": "python",
   "pygments_lexer": "ipython3",
   "version": "3.11.5"
  }
 },
 "nbformat": 4,
 "nbformat_minor": 5
}
