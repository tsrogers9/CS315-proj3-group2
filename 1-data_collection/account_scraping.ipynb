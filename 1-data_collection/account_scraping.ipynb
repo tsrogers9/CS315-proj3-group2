{
 "cells": [
  {
   "cell_type": "markdown",
   "id": "11f91b9d-8cd2-46c1-930d-0db5617b27fd",
   "metadata": {},
   "source": [
    "# Tiktok Account Scraper\n",
    "Author: Eni Mustafaraj \\ \n",
    "Edited by Sandy Liu to perform scraping for our project \\\n",
    "Notes: Edited the original notebook to have it scrape down videos(ids) under the accounts of politicians\n",
    "output files in the raw_female and raw_male"
   ]
  },
  {
   "cell_type": "code",
   "execution_count": 16,
   "id": "8a110b0c-cfc0-4590-95ee-5ba4ae4b3ff9",
   "metadata": {},
   "outputs": [],
   "source": [
    "#pip install webdriver_manager"
   ]
  },
  {
   "cell_type": "markdown",
   "id": "3e5330c3",
   "metadata": {},
   "source": [
    "# Webdriver setup\n",
    "set up the environment to allow webdriver (cr. Eni)"
   ]
  },
  {
   "cell_type": "code",
   "execution_count": 18,
   "id": "ee7c1141-84f6-4c0b-b0b5-475b1ddfef18",
   "metadata": {},
   "outputs": [],
   "source": [
    "from selenium import webdriver\n",
    "from selenium.webdriver.chrome.options import Options\n",
    "from selenium.webdriver.chrome.service import Service\n",
    "from webdriver_manager.chrome import ChromeDriverManager\n",
    "from selenium.webdriver.common.by import By\n",
    "from selenium.webdriver.common.action_chains import ActionChains\n",
    "from selenium.webdriver.common.keys import Keys\n",
    "import time\n",
    "\n",
    "# Set up Chrome options\n",
    "options = Options()\n",
    "options.add_experimental_option(\"debuggerAddress\", \"127.0.0.1:9222\")\n",
    "\n",
    "# Path to your ChromeDriver\n",
    "service = Service(ChromeDriverManager().install())\n",
    "\n",
    "# Connect to the existing Chrome browser session\n",
    "driver = webdriver.Chrome(service=service, options=options)"
   ]
  },
  {
   "cell_type": "markdown",
   "id": "b34834a7",
   "metadata": {},
   "source": [
    "# Define Function\n",
    "Define the function that is used to scrape down the video ids under account page (cr. Eni)"
   ]
  },
  {
   "cell_type": "code",
   "execution_count": 22,
   "id": "6152340f-efb2-4f9c-a7c9-96bb175f858f",
   "metadata": {},
   "outputs": [],
   "source": [
    "def getVideosAndDescriptions(driver):\n",
    "    \"\"\"Given an open driver instance on a TikTok account page, \n",
    "    get the list of video URLs that are accessible.\n",
    "    \"\"\"\n",
    "    time.sleep(2) # in case the page hasn't loaded yet\n",
    "\n",
    "    # Get the container of the videos\n",
    "    try:\n",
    "        container = driver.find_element(By.CLASS_NAME, \"eegew6e2\")\n",
    "    except Exception as e:\n",
    "        print(f\"Container: An unexpected error occurred: {e}\")\n",
    "        return []\n",
    "\n",
    "    # Get the video elements\n",
    "    try:\n",
    "        posts = container.find_elements(By.CLASS_NAME, VIDEO_CLASS)\n",
    "    except Exception as e:\n",
    "        print(f\"Post: An unexpected error occurred: {e}\")\n",
    "        return []\n",
    "\n",
    "    # Get the URLs of the videos\n",
    "    try:\n",
    "        urls = [post.find_element(By.TAG_NAME, \"a\").get_attribute('href') for post in posts]\n",
    "    except Exception as e:\n",
    "        print(f\"URL: An unexpected error occurred: {e}\")\n",
    "        return []\n",
    "\n",
    "    # Get the description of each post. Since some of them don't have one, we'll add an empty string\n",
    "    descriptions = []\n",
    "    for post in posts:\n",
    "        try:\n",
    "            desc = post.find_element(By.CLASS_NAME, DESC_CLASS).text\n",
    "            descriptions.append(desc)\n",
    "        except:\n",
    "            descriptions.append('')\n",
    "\n",
    "    # Combine together urls and descriptions\n",
    "    return list(zip(urls, descriptions))"
   ]
  },
  {
   "cell_type": "markdown",
   "id": "356f847d",
   "metadata": {},
   "source": [
    "# Actual Scraping\n",
    "Use the functions above to scrape down videos ids for all the accounts in our list, run it two sets to scrape for\n",
    "female and male"
   ]
  },
  {
   "cell_type": "markdown",
   "id": "e42da791",
   "metadata": {},
   "source": []
  },
  {
   "cell_type": "markdown",
   "id": "2dcbf2fc",
   "metadata": {},
   "source": []
  },
  {
   "cell_type": "code",
   "execution_count": 29,
   "id": "aee07177-ee22-4cce-853c-564a33d195a3",
   "metadata": {},
   "outputs": [
    {
     "name": "stdout",
     "output_type": "stream",
     "text": [
      "corybooker 35\n"
     ]
    }
   ],
   "source": [
    "#modified: Below is the list of accounts that we wanted to collect. Used the functions existing in the notebook\n",
    "\n",
    "\n",
    "male_accounts = ['corybooke', 'johnfetterman', 'jon', 'bernie', 'kevinmullinforcongress', 'congressmancardenas', \n",
    "                     'adamschiffca', 'repmarktakano', 'robertgarcia', 'repmaxwellfrost', 'troyc4congress', 'repdeanphillips',\n",
    "                     'benniegthompson', 'stevenahorsford', 'billpascrell', 'repbowman', 'wileynickel', 'jeffjacksonnc', 'greglandsmanoh', \n",
    "                     'colinallredtx', 'repcasar', 'repres.gerryconnolly', 'repricklarsen', 'repmarkpocan']\n",
    "\n",
    "#test_accounts = ['corybooker']\n",
    "female_accounts = ['aoc', 'congressmancardenas', 'ilhanmn', 'kirstengillibrand', 'marieforcongress', 'nikemawilliams', 'rashidatlaib',\n",
    "                   'repchrissyhoulahan', 'repkatieporter', 'reppressley', 'repshontelbrown', 'repstansbury', 'repsummerlee', 'repwilson', 'sheilaforhouston', 'teampattymurray']\n",
    "\n",
    "\n",
    "for acc in female_accounts:\n",
    "    url = f\"https://www.tiktok.com/@{acc}\"\n",
    "    driver.get(url)\n",
    "\n",
    "    # Scroll down for a while to load posts\n",
    "    for i in range(200):\n",
    "        actions.send_keys(Keys.ARROW_DOWN)\n",
    "        actions.perform()\n",
    "        time.sleep(0.1)\n",
    "\n",
    "    posts = getVideosAndDescriptions(driver)\n",
    "    print(acc, len(posts))\n",
    "\n",
    "    # Save in different files\n",
    "    import json\n",
    "    with open(f\"raw_female/{acc}.json\", 'w') as fout:\n",
    "        json.dump(posts, fout)"
   ]
  },
  {
   "cell_type": "code",
   "execution_count": null,
   "id": "f9010919-85aa-4ff7-a59e-580c95107ed8",
   "metadata": {},
   "outputs": [],
   "source": [
    "#corybooke no video\n",
    "#benniegthompson no video\n",
    "#reprisklarsen account does not exist"
   ]
  }
 ],
 "metadata": {
  "kernelspec": {
   "display_name": "Python 3 (ipykernel)",
   "language": "python",
   "name": "python3"
  },
  "language_info": {
   "codemirror_mode": {
    "name": "ipython",
    "version": 3
   },
   "file_extension": ".py",
   "mimetype": "text/x-python",
   "name": "python",
   "nbconvert_exporter": "python",
   "pygments_lexer": "ipython3",
   "version": "3.11.5"
  }
 },
 "nbformat": 4,
 "nbformat_minor": 5
}
